{
 "cells": [
  {
   "cell_type": "code",
   "execution_count": 1,
   "metadata": {},
   "outputs": [],
   "source": [
    "from tensorboardX import SummaryWriter\n",
    "writer = SummaryWriter('runs/scalar_example')\n",
    "for i in range(10):\n",
    "    writer.add_scalar('quadratic', i**2, global_step=i)\n",
    "    writer.add_scalar('exponential', 2**i, global_step=i)\n"
   ]
  },
  {
   "cell_type": "code",
   "execution_count": 4,
   "metadata": {},
   "outputs": [],
   "source": [
    "writer = SummaryWriter('runs/scalar_experiment')\n",
    "for i in range(10):\n",
    "    writer.add_scalar('quadratic', i**2, global_step=i)\n",
    "    writer.add_scalar('exponential', 2**i, global_step=i)"
   ]
  },
  {
   "cell_type": "code",
   "execution_count": 1,
   "metadata": {},
   "outputs": [],
   "source": [
    "from tensorboardX import SummaryWriter\n",
    "import numpy as np\n",
    "\n",
    "writer = SummaryWriter('runs/embedding_example')\n",
    "writer.add_histogram('normal_centered', np.random.normal(0, 1, 1000), global_step=1)\n",
    "writer.add_histogram('normal_centered', np.random.normal(0, 2, 1000), global_step=50)\n",
    "writer.add_histogram('normal_centered', np.random.normal(0, 3, 1000), global_step=100)\n"
   ]
  },
  {
   "cell_type": "code",
   "execution_count": 2,
   "metadata": {},
   "outputs": [],
   "source": [
    "from tensorboardX import SummaryWriter\n",
    "writer = SummaryWriter('runs/scalar_exampl')\n",
    "for i in range(10):\n",
    "    writer.add_scalar('quadratic', i**2, i)\n",
    "    writer.add_scalar('exponential', 2**i, i)\n",
    "    writer.add_scalar('333', 2**i, i)\n"
   ]
  },
  {
   "cell_type": "code",
   "execution_count": 2,
   "metadata": {},
   "outputs": [
    {
     "data": {
      "text/plain": [
       "array([-0.05216536, -0.13360224, -0.90109037, -0.25261406, -0.95057993,\n",
       "        1.26821081,  1.00367157,  2.39728696, -1.94174082,  0.60531214,\n",
       "        0.38617928, -0.26537951,  0.49323391, -0.28947158,  0.74736177,\n",
       "       -0.40096102,  0.27519104, -1.62013762, -0.96905759,  0.76947575,\n",
       "        0.1318561 , -0.73487645,  0.61503671,  0.0756674 ,  0.57237676,\n",
       "        0.52592099,  0.49614847,  0.75813758,  0.77540267, -1.41918095,\n",
       "       -2.49053656, -0.43375217,  0.72596603,  1.28023732, -0.00521061,\n",
       "        2.49810895, -0.12970506, -0.78287073,  1.31406576, -0.35173999,\n",
       "        1.77070507,  1.05902017,  0.0502702 ,  1.14423214,  0.70635814,\n",
       "        0.65097191,  0.29452822,  0.70143766, -0.40483081,  1.57675083])"
      ]
     },
     "execution_count": 2,
     "metadata": {},
     "output_type": "execute_result"
    }
   ],
   "source": [
    "import numpy as np\n",
    "np.random.randn(50)"
   ]
  },
  {
   "cell_type": "code",
   "execution_count": 14,
   "metadata": {},
   "outputs": [
    {
     "name": "stdout",
     "output_type": "stream",
     "text": [
      "<class 'numpy.ndarray'>\n",
      "[1 2 3 4]\n",
      "1\n",
      "2\n",
      "3\n",
      "4\n",
      "[1, 2, 3, 4]\n"
     ]
    }
   ],
   "source": [
    "\n",
    "import numpy as np\n",
    "\n",
    "import torch\n",
    "import torch.nn as nn\n",
    "from torch.optim import Adam\n",
    "a = [1,2,3,4]\n",
    "b = torch.tensor(a)\n",
    "\n",
    "b = b.detach().numpy()\n",
    "\n",
    "d = []\n",
    "print(type(b))\n",
    "print(c)\n",
    "for i in c:\n",
    "    d.append(i)\n",
    "    print(i)\n",
    "print(d)"
   ]
  },
  {
   "cell_type": "code",
   "execution_count": 7,
   "metadata": {},
   "outputs": [
    {
     "name": "stdout",
     "output_type": "stream",
     "text": [
      "<class 'numpy.ndarray'>\n",
      "<class 'numpy.ndarray'>\n"
     ]
    }
   ],
   "source": [
    "import numpy as np\n",
    "\n",
    "min_observation = np.zeros(5)   #要改\n",
    "max_observation = [0 for _ in range(5)]\n",
    "max_observation = np.array(max_observation)\n",
    "\n",
    "print(type(min_observation))\n",
    "print(type(max_observation))\n"
   ]
  },
  {
   "cell_type": "code",
   "execution_count": 12,
   "metadata": {},
   "outputs": [
    {
     "data": {
      "text/plain": [
       "[3,\n",
       " 3,\n",
       " 3,\n",
       " 5,\n",
       " 5,\n",
       " 5,\n",
       " 6,\n",
       " 6,\n",
       " 2,\n",
       " 2,\n",
       " 9,\n",
       " 9,\n",
       " 2,\n",
       " 2,\n",
       " 0,\n",
       " 0,\n",
       " 0,\n",
       " 4,\n",
       " 4,\n",
       " 1,\n",
       " 1,\n",
       " 8,\n",
       " 8,\n",
       " 8,\n",
       " 7,\n",
       " 7,\n",
       " 7,\n",
       " 4,\n",
       " 4,\n",
       " 3,\n",
       " 3,\n",
       " 6,\n",
       " 6,\n",
       " 6,\n",
       " 2,\n",
       " 2,\n",
       " 4,\n",
       " 4,\n",
       " 4,\n",
       " 2,\n",
       " 2,\n",
       " 2,\n",
       " 8,\n",
       " 8,\n",
       " 8,\n",
       " 5,\n",
       " 5,\n",
       " 5,\n",
       " 3,\n",
       " 3,\n",
       " 3,\n",
       " 2,\n",
       " 2,\n",
       " 6,\n",
       " 6,\n",
       " 4,\n",
       " 4,\n",
       " 0,\n",
       " 0,\n",
       " 0]"
      ]
     },
     "execution_count": 12,
     "metadata": {},
     "output_type": "execute_result"
    }
   ],
   "source": [
    "import numpy as np\n",
    "import random\n",
    "a = [[random.randint(-1, 9) for j in range(12)] for i in range(5)]\n",
    "#print(array(a))\n",
    "print(a)"
   ]
  },
  {
   "cell_type": "code",
   "execution_count": 13,
   "metadata": {},
   "outputs": [
    {
     "name": "stdout",
     "output_type": "stream",
     "text": [
      "[3 3 3 5 5 5 6 6 2 2 9 9 2 2 0 0 0 4 4 1 1 8 8 8 7 7 7 4 4 3 3 6 6 6 2 2 4\n",
      " 4 4 2 2 2 8 8 8 5 5 5 3 3 3 2 2 6 6 4 4 0 0 0]\n"
     ]
    }
   ],
   "source": []
  }
 ],
 "metadata": {
  "kernelspec": {
   "display_name": "Python 3",
   "language": "python",
   "name": "python3"
  },
  "language_info": {
   "codemirror_mode": {
    "name": "ipython",
    "version": 3
   },
   "file_extension": ".py",
   "mimetype": "text/x-python",
   "name": "python",
   "nbconvert_exporter": "python",
   "pygments_lexer": "ipython3",
   "version": "3.8.5"
  }
 },
 "nbformat": 4,
 "nbformat_minor": 4
}
